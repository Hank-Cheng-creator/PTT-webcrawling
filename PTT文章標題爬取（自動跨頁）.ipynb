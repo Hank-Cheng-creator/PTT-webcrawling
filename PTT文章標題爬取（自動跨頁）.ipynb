{
 "cells": [
  {
   "cell_type": "code",
   "execution_count": 5,
   "metadata": {},
   "outputs": [
    {
     "data": {
      "text/plain": [
       "'/bbs/Food/index6998.html'"
      ]
     },
     "execution_count": 5,
     "metadata": {},
     "output_type": "execute_result"
    }
   ],
   "source": [
    "paging[1]['href']"
   ]
  },
  {
   "cell_type": "code",
   "execution_count": 2,
   "metadata": {},
   "outputs": [
    {
     "name": "stdout",
     "output_type": "stream",
     "text": [
      "[食記] 桃園楊梅 辣嘛川湘館(中式料理合菜熱炒 https://www.ptt.cc/bbs/Food/M.1618735138.A.57E.html\n",
      "[食記] 台北。大安站-鼎旺麻辣鍋二店~雞爪必吃 https://www.ptt.cc/bbs/Food/M.1618737940.A.36D.html\n",
      "[請益] 北投有比較便宜的親子餐廳嗎 https://www.ptt.cc/bbs/Food/M.1618739471.A.C8A.html\n",
      "[食記] 台中 G COLOUR金色魔法紅茶一中店 https://www.ptt.cc/bbs/Food/M.1618744044.A.53F.html\n",
      "[食記] 新北三重 有可愛柴柴的睿淇咖啡寵物友善 https://www.ptt.cc/bbs/Food/M.1618745137.A.F56.html\n",
      "[食記] 台中 一貫手作壽司~無菜單料理嚐鮮趣 https://www.ptt.cc/bbs/Food/M.1618745331.A.C84.html\n",
      "[食記] 高雄 宜景園-被麵食湯包耽誤的香酥鴨XD https://www.ptt.cc/bbs/Food/M.1618746850.A.99F.html\n",
      "[廣宣] 台北 咖啡實驗室Coffee lab 美味手作甜點 https://www.ptt.cc/bbs/Food/M.1618749200.A.84E.html\n",
      "[食記] 嘉義 大樹腳阿欽伯粉圓 https://www.ptt.cc/bbs/Food/M.1618751332.A.174.html\n",
      "[請益] 台北有推薦的夜景餐廳嗎 https://www.ptt.cc/bbs/Food/M.1618751502.A.5FC.html\n",
      "[食記] 新北.蘆洲 - 牛丁次郎坊  日式定食 https://www.ptt.cc/bbs/Food/M.1618752458.A.04C.html\n",
      "[食記] 台北大安東區 上海宴(小籠湯包上海菜合菜 https://www.ptt.cc/bbs/Food/M.1618752819.A.577.html\n",
      "[食記] 台北大同 綠境Aroma https://www.ptt.cc/bbs/Food/M.1618755063.A.993.html\n",
      "[食記] 台北欣葉中山店 CP值極高的自助餐廳 https://www.ptt.cc/bbs/Food/M.1618756136.A.60A.html\n",
      "[食記] 芹沃咖啡烘培館 馬祖北竿 老酒豬肉蛋披薩 https://www.ptt.cc/bbs/Food/M.1618758472.A.0EC.html\n",
      "[食記] 高雄 上官木桶鍋 平實不貴的雙人鍋物套餐 https://www.ptt.cc/bbs/Food/M.1618760532.A.E29.html\n",
      "[食記] 台北萬華 東港旗魚黑輪 12元的銅板美食 https://www.ptt.cc/bbs/Food/M.1618760764.A.12A.html\n",
      "[食記] 新北三芝，金泰亨-傳奇泰菜女主廚再現 https://www.ptt.cc/bbs/Food/M.1618761331.A.345.html\n",
      "[食記] 高雄 老利仔海產粥 https://www.ptt.cc/bbs/Food/M.1618761924.A.AD7.html\n",
      "[食記] 宜蘭礁溪鄉早餐吃到飽-三燔礁溪 https://www.ptt.cc/bbs/Food/M.1618762044.A.8EA.html\n",
      "[公告] Food板 板規 V3.91 https://www.ptt.cc/bbs/Food/M.1355673582.A.5F7.html\n",
      "[公告] 發文請在標題加上地區及提供地址電話。^^ https://www.ptt.cc/bbs/Food/M.1190944426.A.E6C.html\n",
      "[公告] 文章被刪除者請洽精華區的資源回收桶 https://www.ptt.cc/bbs/Food/M.1128132666.A.0FD.html\n",
      "[公告] 新增板規22：發文禁附延伸閱讀連結 https://www.ptt.cc/bbs/Food/M.1496532469.A.C36.html\n",
      "[食記] 台北.大同 - 林家鯊魚煙 https://www.ptt.cc/bbs/Food/M.1618664116.A.AD3.html\n",
      "[食記] 台北.大同 - 汕頭牛肉麵 https://www.ptt.cc/bbs/Food/M.1618664540.A.4AB.html\n",
      "[食記] 台北.大同 - 阿寶師 鱔魚麵 https://www.ptt.cc/bbs/Food/M.1618665114.A.69D.html\n",
      "[食記] 新北永和 RéeL法國鄉土料理~特別菜單 https://www.ptt.cc/bbs/Food/M.1618668445.A.27B.html\n",
      "[食記] 台北北投 無眠workshop 美味溫馨的早午餐 https://www.ptt.cc/bbs/Food/M.1618669115.A.1D8.html\n",
      "[食記] 豆莊豆漿店 新北板橋 酥脆可口雙蛋蛋餅 https://www.ptt.cc/bbs/Food/M.1618669833.A.33E.html\n",
      "[食記] 台北南港CITYLINK 高麗園銅盤烤肉吃到飽  https://www.ptt.cc/bbs/Food/M.1618670212.A.F14.html\n",
      "[食記] 大村武串燒居酒屋士林店 https://www.ptt.cc/bbs/Food/M.1618671057.A.72B.html\n",
      "[食記] 彰化市 老担阿璋肉圓 外皮Q彈人氣肉圓店 https://www.ptt.cc/bbs/Food/M.1618671991.A.C38.html\n",
      "[食記] 嘉義-綠豆先生後庄店-慶開幕買三送一， https://www.ptt.cc/bbs/Food/M.1618672176.A.BC5.html\n",
      "[食記] 台北.松山 - 深紅汕頭鍋物 https://www.ptt.cc/bbs/Food/M.1618672808.A.BDA.html\n",
      "[食記] 花蓮市區x小吃【黃車炸彈蔥油餅】 https://www.ptt.cc/bbs/Food/M.1618673241.A.B50.html\n",
      "[食記] 赤鬼新品牌台中開幕-花一番炸牛排 https://www.ptt.cc/bbs/Food/M.1618673249.A.179.html\n",
      "[食記] 永和阿義漁舖 精緻生魚丼180元就吃得到! https://www.ptt.cc/bbs/Food/M.1618678252.A.072.html\n",
      "[食記] 高雄 鳳山-吃否吃否 手撕豬肉堡&早午餐 https://www.ptt.cc/bbs/Food/M.1618685385.A.43F.html\n",
      "[食記] 台中 北屯區│大慶麵食館 軍功店 https://www.ptt.cc/bbs/Food/M.1618706573.A.989.html\n",
      "[食記] 台南 國華街美食 黃家鱔魚意麵 https://www.ptt.cc/bbs/Food/M.1618710524.A.728.html\n",
      "[食記] 台北 紅玉滿赤心-期間限定「神獸」雞蛋糕 https://www.ptt.cc/bbs/Food/M.1618712824.A.FBD.html\n",
      "[食記] 台北中山 橫濱家系拉麵 特濃屋~道地日本 https://www.ptt.cc/bbs/Food/M.1618715406.A.BAD.html\n",
      "[食記] 高雄 牛哥牛肉麵 果貿道地眷村美食 https://www.ptt.cc/bbs/Food/M.1618734437.A.C7C.html\n",
      "[食記] 台南 Siam Siam 泰式料理 https://www.ptt.cc/bbs/Food/M.1618579008.A.139.html\n",
      "[食記] 台中 馨苑 必比登認證!一個人也能吃台菜 https://www.ptt.cc/bbs/Food/M.1618579583.A.BE0.html\n",
      "[食記] 台南中西 赤崁樓浮水花枝羹專賣店 https://www.ptt.cc/bbs/Food/M.1618580687.A.ADF.html\n",
      "[食記] 花蓮 美崙 石甜舖 舒芙蕾 燉飯 https://www.ptt.cc/bbs/Food/M.1618582395.A.FDB.html\n",
      "[食記] 新北永和 卡瓦蛋糕 蛋糕體濕潤綿密細緻 https://www.ptt.cc/bbs/Food/M.1618585997.A.215.html\n",
      "[食記] 新北新莊 肉多多(新莊復興店) https://www.ptt.cc/bbs/Food/M.1618587703.A.173.html\n",
      "[食記] 台北 禾鮨 1280元的高CP值無菜單日本料理 https://www.ptt.cc/bbs/Food/M.1618588791.A.F22.html\n",
      "[食記] 桃園中壢區。諸君早安 https://www.ptt.cc/bbs/Food/M.1618590205.A.759.html\n",
      "[食記] 台北大同 古早餅弟 大稻埕傳統免煎嗲  https://www.ptt.cc/bbs/Food/M.1618593414.A.AB0.html\n",
      "[食記] 台中純白質感咖啡店 咖啡高水準的8豆珈琲 https://www.ptt.cc/bbs/Food/M.1618594530.A.955.html\n",
      "[食記] 台北 亞洲50大最佳甜點主廚Angela Lai賴思瑩客座Heritag https://www.ptt.cc/bbs/Food/M.1618595023.A.CAC.html\n",
      "[食記] 高雄 品田牧場春季新菜心得 https://www.ptt.cc/bbs/Food/M.1618602976.A.376.html\n",
      "[食記] 台北中正 康記老麵上海包子 https://www.ptt.cc/bbs/Food/M.1618626394.A.EC2.html\n",
      "[食記]雞玉錦拉麵(桃園店)日本連續4年排隊第一名 https://www.ptt.cc/bbs/Food/M.1618630763.A.C14.html\n",
      "[食記] 台南東區 默門茶之匠人 開幕慶買一送一  https://www.ptt.cc/bbs/Food/M.1618630999.A.D31.html\n",
      "[食記] 台北 周家豆腐捲-銅板價！乾烙不膩韭菜盒 https://www.ptt.cc/bbs/Food/M.1618640194.A.33E.html\n",
      "[食記] 高雄 上官木桶鍋裕誠加盟店 推綠麻辣鍋底 https://www.ptt.cc/bbs/Food/M.1618651326.A.073.html\n",
      "Fw: [食記] 高雄 胖尼咖啡pane e caffè，可頌，各式飲料 https://www.ptt.cc/bbs/Food/M.1618653483.A.C5B.html\n",
      "[食記] 新竹北埔 六木珈琲焙煎所 https://www.ptt.cc/bbs/Food/M.1618662047.A.7EC.html\n",
      "[食記] 台北.大同 - 阿欉大橋頭肉粽 https://www.ptt.cc/bbs/Food/M.1618663528.A.D7B.html\n"
     ]
    }
   ],
   "source": [
    "import requests\n",
    "from bs4 import BeautifulSoup\n",
    "\n",
    "url = \"https://www.ptt.cc/bbs/Food/index.html\"\n",
    "\n",
    "for times in range(3):\n",
    "    res = requests.get(url)\n",
    "    soup = BeautifulSoup(res.text, 'html.parser')\n",
    "    articles = soup.select('.title a')\n",
    "    paging = soup.select('.btn-group.btn-group-paging a')\n",
    "    next_url = \"https://www.ptt.cc\" + paging[1]['href']\n",
    "    url = next_url\n",
    "    for each_title in articles:\n",
    "        print(each_title.text, \"https://www.ptt.cc\" + each_title['href'])"
   ]
  }
 ],
 "metadata": {
  "kernelspec": {
   "display_name": "Python 3",
   "language": "python",
   "name": "python3"
  },
  "language_info": {
   "codemirror_mode": {
    "name": "ipython",
    "version": 3
   },
   "file_extension": ".py",
   "mimetype": "text/x-python",
   "name": "python",
   "nbconvert_exporter": "python",
   "pygments_lexer": "ipython3",
   "version": "3.8.5"
  }
 },
 "nbformat": 4,
 "nbformat_minor": 4
}
